{
 "cells": [
  {
   "cell_type": "markdown",
   "metadata": {},
   "source": [
    "## Introduction\n",
    "+ The following modules need to be installed in order for the code to execute properly\n",
    "    + keras\n",
    "    + tensorflow\n",
    "    + python-mnist\n",
    "+ Useful links\n",
    "    + https://github.com/keras-team/keras/tree/master/examples  -> examples of network architecture\n",
    "    + https://elitedatascience.com/keras-tutorial-deep-learning-in-python -> keras tutorial with mnist"
   ]
  },
  {
   "cell_type": "markdown",
   "metadata": {},
   "source": [
    "## Attempts with core layers"
   ]
  },
  {
   "cell_type": "markdown",
   "metadata": {},
   "source": [
    "Import necessary modules"
   ]
  },
  {
   "cell_type": "code",
   "execution_count": 1,
   "metadata": {},
   "outputs": [
    {
     "name": "stderr",
     "output_type": "stream",
     "text": [
      "Using TensorFlow backend.\n"
     ]
    }
   ],
   "source": [
    "import keras\n",
    "from keras.utils        import np_utils\n",
    "from keras.models       import Sequential\n",
    "from keras.layers       import Dense, Activation, Conv2D, Dropout\n",
    "from keras.datasets     import mnist\n",
    "from keras.optimizers   import Adam  \n",
    "from keras.backend      import image_data_format"
   ]
  },
  {
   "cell_type": "markdown",
   "metadata": {},
   "source": [
    "First very minimal NN -> reaches 97.5% accuracy"
   ]
  },
  {
   "cell_type": "code",
   "execution_count": 5,
   "metadata": {
    "scrolled": true
   },
   "outputs": [
    {
     "name": "stdout",
     "output_type": "stream",
     "text": [
      "(None, 10)\n",
      "Epoch 1/20\n",
      "60000/60000 [==============================] - 18s 304us/step - loss: 0.2602 - acc: 0.9219\n",
      "Epoch 2/20\n",
      "60000/60000 [==============================] - 18s 301us/step - loss: 0.1743 - acc: 0.9473\n",
      "Epoch 3/20\n",
      "60000/60000 [==============================] - 18s 300us/step - loss: 0.1525 - acc: 0.9544\n",
      "Epoch 4/20\n",
      "60000/60000 [==============================] - 18s 297us/step - loss: 0.1417 - acc: 0.9582\n",
      "Epoch 5/20\n",
      "60000/60000 [==============================] - 18s 306us/step - loss: 0.1368 - acc: 0.9595\n",
      "Epoch 6/20\n",
      "60000/60000 [==============================] - 18s 306us/step - loss: 0.1255 - acc: 0.9621\n",
      "Epoch 7/20\n",
      "60000/60000 [==============================] - 18s 304us/step - loss: 0.1213 - acc: 0.9644\n",
      "Epoch 8/20\n",
      "60000/60000 [==============================] - 18s 305us/step - loss: 0.1181 - acc: 0.9653\n",
      "Epoch 9/20\n",
      "60000/60000 [==============================] - 19s 312us/step - loss: 0.1116 - acc: 0.9679\n",
      "Epoch 10/20\n",
      "60000/60000 [==============================] - 19s 322us/step - loss: 0.1120 - acc: 0.9668\n",
      "Epoch 11/20\n",
      "60000/60000 [==============================] - 20s 332us/step - loss: 0.1093 - acc: 0.9682\n",
      "Epoch 12/20\n",
      "60000/60000 [==============================] - 20s 332us/step - loss: 0.1044 - acc: 0.9694\n",
      "Epoch 13/20\n",
      "60000/60000 [==============================] - 20s 331us/step - loss: 0.1038 - acc: 0.9698\n",
      "Epoch 14/20\n",
      "60000/60000 [==============================] - 20s 331us/step - loss: 0.0999 - acc: 0.9706\n",
      "Epoch 15/20\n",
      "60000/60000 [==============================] - 21s 343us/step - loss: 0.0983 - acc: 0.9715\n",
      "Epoch 16/20\n",
      "60000/60000 [==============================] - 20s 331us/step - loss: 0.0940 - acc: 0.9725\n",
      "Epoch 17/20\n",
      "60000/60000 [==============================] - 20s 329us/step - loss: 0.0974 - acc: 0.9718\n",
      "Epoch 18/20\n",
      "60000/60000 [==============================] - 20s 328us/step - loss: 0.0899 - acc: 0.9737\n",
      "Epoch 19/20\n",
      "60000/60000 [==============================] - 20s 334us/step - loss: 0.0948 - acc: 0.9729\n",
      "Epoch 20/20\n",
      "60000/60000 [==============================] - 20s 335us/step - loss: 0.0895 - acc: 0.9749\n",
      "10000/10000 [==============================] - 1s 104us/step\n",
      "[0.11619589000290725, 0.975]\n"
     ]
    }
   ],
   "source": [
    "# read data from dataset\n",
    "(x_train, y_train), (x_test, y_test) = mnist.load_data()\n",
    "\n",
    "# reshape x in 1D\n",
    "x_train = x_train.reshape(x_train.shape[0], 784)\n",
    "x_test = x_test.reshape(x_test.shape[0], 784)\n",
    "\n",
    "# cast x to float32 and normalize to [0,1]\n",
    "x_train = x_train.astype('float32')\n",
    "x_test = x_test.astype('float32')\n",
    "x_train /= 255\n",
    "x_test /= 255\n",
    "\n",
    "# reshape y to 10-dim bit instead of int\n",
    "y_train = np_utils.to_categorical(y_train, 10)\n",
    "y_test = np_utils.to_categorical(y_test, 10)\n",
    "\n",
    "\n",
    "model = Sequential()\n",
    "model.add(Dense(256, input_dim=784, activation='sigmoid'))\n",
    "model.add(Dropout(0.3))\n",
    "model.add(Dense(10, activation='softmax'))\n",
    "print(model.output_shape)\n",
    "opt = Adam(lr = 0.01)\n",
    "model.compile(loss = 'categorical_crossentropy',\n",
    "             optimizer = opt,\n",
    "             metrics = ['accuracy'])\n",
    "model.fit(x_train, y_train,\n",
    "         epochs = 20,\n",
    "         batch_size = 32)\n",
    "score = model.evaluate(x_test, y_test, batch_size = 32)\n",
    "print(score)"
   ]
  }
 ],
 "metadata": {
  "kernelspec": {
   "display_name": "Python 3",
   "language": "python",
   "name": "python3"
  },
  "language_info": {
   "codemirror_mode": {
    "name": "ipython",
    "version": 3
   },
   "file_extension": ".py",
   "mimetype": "text/x-python",
   "name": "python",
   "nbconvert_exporter": "python",
   "pygments_lexer": "ipython3",
   "version": "3.5.2"
  }
 },
 "nbformat": 4,
 "nbformat_minor": 2
}
